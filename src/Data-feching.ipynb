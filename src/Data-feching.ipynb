{
 "cells": [
  {
   "cell_type": "markdown",
   "source": [
    "EXTRAE DATOS de SPOTIFY 🎶 con PYTHON 🐍"
   ],
   "metadata": {
    "collapsed": false
   },
   "id": "3f1fc3c09a49d1ef"
  },
  {
   "cell_type": "code",
   "outputs": [],
   "source": [
    "from builtins import id\n",
    "from idlelib.debugger_r import restart_subprocess_debugger\n",
    "\n",
    "import spotipy\n",
    "from debugpy._vendored.pydevd._pydevd_bundle.pydevd_vars import array_to_xml\n",
    "from spotipy.oauth2 import SpotifyClientCredentials\n",
    "\n",
    "import pandas as pd\n",
    "import numpy as np\n",
    "\n",
    "import plotly.express as px\n",
    "\n",
    "from dotenv import load_dotenv\n",
    "import os"
   ],
   "metadata": {
    "collapsed": false,
    "ExecuteTime": {
     "end_time": "2024-01-07T17:04:34.882680300Z",
     "start_time": "2024-01-07T17:04:34.701629300Z"
    }
   },
   "id": "5d3056702fca93a7",
   "execution_count": 7
  },
  {
   "cell_type": "code",
   "outputs": [
    {
     "name": "stdout",
     "output_type": "stream",
     "text": [
      "2fac13381152475a965f83ab255be276\n",
      "098e07891a9c4216885e7cdd37da6a82\n"
     ]
    }
   ],
   "source": [
    "load_dotenv()\n",
    "client_id = os.getenv('CLIENT_ID')\n",
    "client_secret = os.getenv('CLIENT_SECRET')\n",
    "print(client_id)\n",
    "print(client_secret)\n",
    "credential_manager = SpotifyClientCredentials(client_id=client_id, client_secret=client_secret)\n",
    "sp = spotipy.Spotify(client_credentials_manager=credential_manager)"
   ],
   "metadata": {
    "collapsed": false,
    "ExecuteTime": {
     "end_time": "2024-01-07T17:04:34.898826200Z",
     "start_time": "2024-01-07T17:04:34.886764Z"
    }
   },
   "id": "4a41c1d654ee385b",
   "execution_count": 8
  },
  {
   "cell_type": "code",
   "outputs": [
    {
     "name": "stdout",
     "output_type": "stream",
     "text": [
      "45eNHdiiabvmbp4erw26rg\n"
     ]
    }
   ],
   "source": [
    "result = sp.search(q='ILLENIUM', limit=1, type='artist')\n",
    "artist_id = result['artists']['items'][0]['id']\n",
    "# 45eNHdiiabvmbp4erw26rg\n",
    "print(artist_id)"
   ],
   "metadata": {
    "collapsed": false,
    "ExecuteTime": {
     "end_time": "2024-01-07T17:08:21.347274500Z",
     "start_time": "2024-01-07T17:08:20.929238300Z"
    }
   },
   "id": "4419fae7b406d90c",
   "execution_count": 10
  },
  {
   "cell_type": "code",
   "outputs": [
    {
     "name": "stdout",
     "output_type": "stream",
     "text": [
      "ILLENIUM (Remixes)\n",
      "ILLENIUM\n",
      "Fallen Embers (Remixes)\n",
      "Fallen Embers (Deluxe Version)\n",
      "Fallen Embers\n",
      "ASCEND (Remixes)\n",
      "ASCEND\n",
      "Awake (Remixes)\n",
      "Awake\n",
      "Ashes (Remixes)\n",
      "Ashes\n"
     ]
    }
   ],
   "source": [
    "albums = sp.artist_albums(artist_id=artist_id, album_type='album')\n",
    "\n",
    "for album in albums['items']:\n",
    "    print(album['name'])"
   ],
   "metadata": {
    "collapsed": false,
    "ExecuteTime": {
     "end_time": "2024-01-07T17:11:13.169386400Z",
     "start_time": "2024-01-07T17:11:12.245684800Z"
    }
   },
   "id": "f7b8f08f25d8d500",
   "execution_count": 14
  },
  {
   "cell_type": "code",
   "outputs": [],
   "source": [],
   "metadata": {
    "collapsed": false
   },
   "id": "df6d81b7748609bb"
  }
 ],
 "metadata": {
  "kernelspec": {
   "display_name": "Python 3",
   "language": "python",
   "name": "python3"
  },
  "language_info": {
   "codemirror_mode": {
    "name": "ipython",
    "version": 2
   },
   "file_extension": ".py",
   "mimetype": "text/x-python",
   "name": "python",
   "nbconvert_exporter": "python",
   "pygments_lexer": "ipython2",
   "version": "2.7.6"
  }
 },
 "nbformat": 4,
 "nbformat_minor": 5
}
